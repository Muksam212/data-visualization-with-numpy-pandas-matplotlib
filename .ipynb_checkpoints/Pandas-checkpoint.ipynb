{
 "cells": [
  {
   "cell_type": "code",
   "execution_count": 1,
   "id": "a6383379",
   "metadata": {},
   "outputs": [],
   "source": [
    "import pandas as pd"
   ]
  },
  {
   "cell_type": "code",
   "execution_count": 6,
   "id": "9b9f2c57",
   "metadata": {},
   "outputs": [
    {
     "data": {
      "text/html": [
       "<div>\n",
       "<style scoped>\n",
       "    .dataframe tbody tr th:only-of-type {\n",
       "        vertical-align: middle;\n",
       "    }\n",
       "\n",
       "    .dataframe tbody tr th {\n",
       "        vertical-align: top;\n",
       "    }\n",
       "\n",
       "    .dataframe thead th {\n",
       "        text-align: right;\n",
       "    }\n",
       "</style>\n",
       "<table border=\"1\" class=\"dataframe\">\n",
       "  <thead>\n",
       "    <tr style=\"text-align: right;\">\n",
       "      <th></th>\n",
       "      <th>apple</th>\n",
       "      <th>oranges</th>\n",
       "    </tr>\n",
       "  </thead>\n",
       "  <tbody>\n",
       "    <tr>\n",
       "      <th>Sunday</th>\n",
       "      <td>3</td>\n",
       "      <td>0</td>\n",
       "    </tr>\n",
       "    <tr>\n",
       "      <th>Monday</th>\n",
       "      <td>2</td>\n",
       "      <td>3</td>\n",
       "    </tr>\n",
       "    <tr>\n",
       "      <th>Tuesday</th>\n",
       "      <td>0</td>\n",
       "      <td>7</td>\n",
       "    </tr>\n",
       "    <tr>\n",
       "      <th>Wednesday</th>\n",
       "      <td>1</td>\n",
       "      <td>1</td>\n",
       "    </tr>\n",
       "  </tbody>\n",
       "</table>\n",
       "</div>"
      ],
      "text/plain": [
       "           apple  oranges\n",
       "Sunday         3        0\n",
       "Monday         2        3\n",
       "Tuesday        0        7\n",
       "Wednesday      1        1"
      ]
     },
     "execution_count": 6,
     "metadata": {},
     "output_type": "execute_result"
    }
   ],
   "source": [
    "fruits = {\n",
    "    \"apple\":[3, 2, 0, 1],\n",
    "    \"oranges\":[0, 3, 7, 1]\n",
    "}\n",
    "\n",
    "#dataframe means having multiple dimension\n",
    "#series means having one dimension\n",
    "fruits = pd.DataFrame(fruits, index = [\"Sunday\", \"Monday\", \"Tuesday\", \"Wednesday\"])\n",
    "fruits"
   ]
  },
  {
   "cell_type": "markdown",
   "id": "d2cd26da",
   "metadata": {},
   "source": [
    "# Merging"
   ]
  },
  {
   "cell_type": "code",
   "execution_count": 8,
   "id": "50427af1",
   "metadata": {},
   "outputs": [
    {
     "name": "stdout",
     "output_type": "stream",
     "text": [
      "      HPI  Int_Rate  IND_GDP\n",
      "2001   80         2       50\n",
      "2002   90         1       45\n",
      "2003   70         2       45\n",
      "2004   60         3       67       HPI  Int_Rate  IND_GDP\n",
      "2001   80         2       50\n",
      "2002   90         1       45\n",
      "2003   70         2       45\n",
      "2004   60         3       67\n"
     ]
    }
   ],
   "source": [
    "df1 = pd.DataFrame({\"HPI\":[80, 90, 70, 60], \"Int_Rate\":[2, 1, 2, 3],\n",
    "                   \"IND_GDP\":[50, 45, 45, 67]}, index = [2001, 2002, 2003, 2004])\n",
    "\n",
    "df2 = pd.DataFrame({\"HPI\":[80, 90, 70, 60], \"Int_Rate\":[2, 1, 2, 3],\n",
    "                   \"IND_GDP\":[50, 45, 45, 67]}, index = [2001, 2002, 2003, 2004])\n",
    "\n",
    "print(df1, df2)"
   ]
  },
  {
   "cell_type": "code",
   "execution_count": 10,
   "id": "821bcb60",
   "metadata": {},
   "outputs": [
    {
     "data": {
      "text/html": [
       "<div>\n",
       "<style scoped>\n",
       "    .dataframe tbody tr th:only-of-type {\n",
       "        vertical-align: middle;\n",
       "    }\n",
       "\n",
       "    .dataframe tbody tr th {\n",
       "        vertical-align: top;\n",
       "    }\n",
       "\n",
       "    .dataframe thead th {\n",
       "        text-align: right;\n",
       "    }\n",
       "</style>\n",
       "<table border=\"1\" class=\"dataframe\">\n",
       "  <thead>\n",
       "    <tr style=\"text-align: right;\">\n",
       "      <th></th>\n",
       "      <th>HPI</th>\n",
       "      <th>Int_Rate</th>\n",
       "      <th>IND_GDP</th>\n",
       "    </tr>\n",
       "  </thead>\n",
       "  <tbody>\n",
       "    <tr>\n",
       "      <th>0</th>\n",
       "      <td>80</td>\n",
       "      <td>2</td>\n",
       "      <td>50</td>\n",
       "    </tr>\n",
       "    <tr>\n",
       "      <th>1</th>\n",
       "      <td>90</td>\n",
       "      <td>1</td>\n",
       "      <td>45</td>\n",
       "    </tr>\n",
       "    <tr>\n",
       "      <th>2</th>\n",
       "      <td>70</td>\n",
       "      <td>2</td>\n",
       "      <td>45</td>\n",
       "    </tr>\n",
       "    <tr>\n",
       "      <th>3</th>\n",
       "      <td>60</td>\n",
       "      <td>3</td>\n",
       "      <td>67</td>\n",
       "    </tr>\n",
       "  </tbody>\n",
       "</table>\n",
       "</div>"
      ],
      "text/plain": [
       "   HPI  Int_Rate  IND_GDP\n",
       "0   80         2       50\n",
       "1   90         1       45\n",
       "2   70         2       45\n",
       "3   60         3       67"
      ]
     },
     "execution_count": 10,
     "metadata": {},
     "output_type": "execute_result"
    }
   ],
   "source": [
    "#how means which join do you prefer like \n",
    "#inner join, outer join, left or right join\n",
    "\n",
    "merged = pd.merge(df1, df2, how = 'inner')\n",
    "merged"
   ]
  },
  {
   "cell_type": "code",
   "execution_count": null,
   "id": "b6eba04e",
   "metadata": {},
   "outputs": [],
   "source": []
  }
 ],
 "metadata": {
  "kernelspec": {
   "display_name": "Python 3 (ipykernel)",
   "language": "python",
   "name": "python3"
  },
  "language_info": {
   "codemirror_mode": {
    "name": "ipython",
    "version": 3
   },
   "file_extension": ".py",
   "mimetype": "text/x-python",
   "name": "python",
   "nbconvert_exporter": "python",
   "pygments_lexer": "ipython3",
   "version": "3.9.5"
  }
 },
 "nbformat": 4,
 "nbformat_minor": 5
}
